{
 "cells": [
  {
   "cell_type": "code",
   "execution_count": null,
   "metadata": {},
   "outputs": [],
   "source": [
    "# Asignment 2"
   ]
  },
  {
   "cell_type": "code",
   "execution_count": null,
   "metadata": {},
   "outputs": [],
   "source": [
    "1.What are the two values of the Boolean data type? How do you write them?"
   ]
  },
  {
   "cell_type": "code",
   "execution_count": null,
   "metadata": {},
   "outputs": [],
   "source": [
    "True : It represents the true or affirmative condition. It is written as the keyword.  'True' (with an uppercase 'T')\n",
    "False : It represents the false or negative condition. It is written as the keyword. 'False' (with an uppercase 'F') \n"
   ]
  },
  {
   "cell_type": "code",
   "execution_count": 2,
   "metadata": {},
   "outputs": [
    {
     "name": "stdout",
     "output_type": "stream",
     "text": [
      "True\n",
      "False\n"
     ]
    }
   ],
   "source": [
    "# example: \n",
    "is_dark = True\n",
    "is_light = False\n",
    "print(is_dark)  #is_dark is assigned the Boolean value True, indicating that it is dark. \n",
    "print(is_light) #is_light is assigned the Boolean value False, indicating that it is not light."
   ]
  },
  {
   "cell_type": "code",
   "execution_count": null,
   "metadata": {},
   "outputs": [],
   "source": [
    "2. What are the three different types of Boolean operators?"
   ]
  },
  {
   "cell_type": "code",
   "execution_count": null,
   "metadata": {},
   "outputs": [],
   "source": [
    "sol:- 1.logical AND('and'): The 'and' operator returns 'True' if both operands are 'True', and 'False'\n",
    "        otherwise.It evaluates the operands from left to right and stops as soon as a 'False' value is \n",
    "        encountered or returns the last 'True' value if all operands are 'True'.\n",
    "# example: \n",
    "result = True and False #evaluate to false\n",
    "print(result)    #False       "
   ]
  },
  {
   "cell_type": "code",
   "execution_count": null,
   "metadata": {},
   "outputs": [],
   "source": [
    "2.Logical OR('or'): The 'or' operator is True if at least one of the operand is true, and \n",
    "'False' otherwise. It evaluates the operands from left to right and stops as soon as \n",
    "a 'True' value is encountered or returns the last 'False' value if all operands are\n",
    "'False'.\n",
    "# example\n",
    "result = True or False #evaluate to True\n",
    "print(result)"
   ]
  },
  {
   "cell_type": "code",
   "execution_count": null,
   "metadata": {},
   "outputs": [],
   "source": [
    "3. Logical Not('not'): The 'not' operator is a unary operator that negates the boolean value of its operand.\n",
    "It returns 'True' if the operand is 'False', and 'False' if the operand is 'True'."
   ]
  },
  {
   "cell_type": "code",
   "execution_count": null,
   "metadata": {},
   "outputs": [],
   "source": [
    "Example:\n",
    "result = not True #evaluate to False\n",
    "print(result) #False"
   ]
  },
  {
   "cell_type": "code",
   "execution_count": null,
   "metadata": {},
   "outputs": [],
   "source": [
    "3. Make a list of each Boolean operators truth tables \n",
    "(i.e. every possible combination of Boolean values for the operator and what it evaluate )."
   ]
  },
  {
   "cell_type": "code",
   "execution_count": null,
   "metadata": {},
   "outputs": [],
   "source": [
    "Logical AND('and'):\n",
    "operand 1       operand 2        Result\n",
    "True            True             True\n",
    "True            False            False\n",
    "False           True             False\n",
    "False           False            False\n",
    "\n",
    "\n",
    "Logical OR('or'):\n",
    "operand 1      operand 2        Result\n",
    "True           True             True\n",
    "True           False            True\n",
    "False          True             True\n",
    "False          False            False\n",
    "\n",
    "Logical NOT('not'):\n",
    "Operand        Result\n",
    "True           False\n",
    "False          True\n",
    "\n",
    "# the truth table provide a result of how one operators evaluate and return Boolean \n",
    "# values based on the truth or fasle of their operands"
   ]
  },
  {
   "cell_type": "code",
   "execution_count": 16,
   "metadata": {},
   "outputs": [],
   "source": [
    "4. What are the values of the following expressions?"
   ]
  },
  {
   "cell_type": "code",
   "execution_count": 15,
   "metadata": {},
   "outputs": [
    {
     "name": "stdout",
     "output_type": "stream",
     "text": [
      "False False True False False True\n"
     ]
    }
   ],
   "source": [
    "a =(5 > 4) and (3 == 5)  # o/p is False\n",
    "b = not (5 > 4)  #o/p is False\n",
    "c = (5 > 4) or (3 == 5) #o/p is True\n",
    "d = not ((5 > 4) or (3 == 5)) # o/p is False \n",
    "e = (True and True) and (True == False) #o/p is False\n",
    "f = (not False) or (not True)  #o/p is True\n",
    "print(a,b,c,d,e,f)"
   ]
  },
  {
   "cell_type": "code",
   "execution_count": null,
   "metadata": {},
   "outputs": [],
   "source": [
    "5. What are the six comparison operators?"
   ]
  },
  {
   "cell_type": "code",
   "execution_count": null,
   "metadata": {},
   "outputs": [],
   "source": [
    "Operator       Name           Usage                                                                  Example\n",
    "==             Equal to       The equal to operator checks if two operands are equal \n",
    "                              and returns 'True' otherwise 'False'.It compares the values\n",
    "                              of two operands.                                                        x==y\n",
    "                                \n",
    "!=            Not equal to    The not equal to operator checks if two operands are not\n",
    "                              equal and returns 'True' otherwise 'False'.It compares the values\n",
    "                              of two operands.                                                        x!=y\n",
    "        \n",
    ">             Greater than     The greater than operator checks if the left operand is greater\n",
    "                                than the right operand and returns 'True' otherwise 'False'.           x>y\n",
    "    \n",
    "<             Less than        The less than operator checks if the left operand is less\n",
    "                               the right operand and return 'True' otherwise 'False'.                  x<y\n",
    "\n",
    ">=            Greater than or  The greater than or equal to operator checks if the left operand\n",
    "               equal to        is greater than or equal to right operand and return 'True' \n",
    "                               otherwise 'False'                                                       x>=y\n",
    "    \n",
    "<=          Less than or equal     The less than or equal to operator checks if the left operand is\n",
    "                  to                less than or equal to the right operand and returns True if it is \n",
    "                                    otherwise 'False'.                                                 x<=y\n",
    "                \n",
    "             "
   ]
  },
  {
   "cell_type": "code",
   "execution_count": null,
   "metadata": {},
   "outputs": [],
   "source": [
    "6. How do you tell the difference between the equal to and assignment operators?\n",
    "   Describe a condition and when you would use one."
   ]
  },
  {
   "cell_type": "code",
   "execution_count": 21,
   "metadata": {},
   "outputs": [
    {
     "name": "stdout",
     "output_type": "stream",
     "text": [
      "x is not equal to y\n",
      "11\n"
     ]
    }
   ],
   "source": [
    "Equal to (\"==\") operator is used to compare two values and returns 'True' if they are equal, and false otherwise\n",
    "It is comparison operator used in conditional statements, loops, and\n",
    "logical evaluations\n",
    "# example :\n",
    "# x = 6\n",
    "# y = 4\n",
    "if x==y:\n",
    "    print(\"x is equal to y\")\n",
    "else:\n",
    "    print(\"x is not equal to y\")\n",
    "# #  o/p is  x is not equal to y \n",
    "\n",
    "Assignment (\"=\")operator is used to assign a value to a variable.It takes the value on the right\n",
    "the value on the right and assigns it to the variable on the left.\n",
    "\n",
    "x = 6\n",
    "y = x+5\n",
    "print(y)"
   ]
  },
  {
   "cell_type": "code",
   "execution_count": null,
   "metadata": {},
   "outputs": [],
   "source": [
    "7. Identify the three blocks in this code:\n"
   ]
  },
  {
   "cell_type": "code",
   "execution_count": 22,
   "metadata": {},
   "outputs": [
    {
     "name": "stdout",
     "output_type": "stream",
     "text": [
      "ham\n",
      "spam\n",
      "spam\n"
     ]
    }
   ],
   "source": [
    "spam = 0\n",
    "if spam == 10:\n",
    "    print('eggs')    #block 1\n",
    "if spam > 5:\n",
    "    print('bacon')   #block 2\n",
    "else:\n",
    "    print('ham')     #block 3\n",
    "    print('spam')\n",
    "    print('spam')    \n"
   ]
  },
  {
   "cell_type": "code",
   "execution_count": null,
   "metadata": {},
   "outputs": [],
   "source": [
    "Block 1:  this block is executed if the condition 'spam == 10' evaluates to true.\n",
    "           since the value of spam is '0'. the condition is not met, and this block is skipped.\n",
    "Block 2: this block is executed if the condition 'spam > 5' evaluates to 'True'. \n",
    "         since the value of spam is 0. which is not greater than 5, the condition does not satisfy\n",
    "         and this block is skipped as well.\n",
    "Block 3: this block is executed because it is associated with 'else' statement.\n",
    "         It will always execute unless the condition in the preceding 'if'\n",
    "         statement is met. since the condition is not met, 'ham' will be printed.\n",
    "         and last two 'print' statements, 'spam' and 'spam' are not inside any \n",
    "         conditional blocks, so they will always execute and print 'spam' twice."
   ]
  },
  {
   "cell_type": "code",
   "execution_count": null,
   "metadata": {},
   "outputs": [],
   "source": [
    "8. Write code that prints Hello if 1 is stored in spam, prints Howdy if 2 is stored in spam,\n",
    "and prints Greetings! if anything else is stored in spam."
   ]
  },
  {
   "cell_type": "code",
   "execution_count": 29,
   "metadata": {},
   "outputs": [
    {
     "name": "stdout",
     "output_type": "stream",
     "text": [
      "Howdy\n"
     ]
    }
   ],
   "source": [
    "spam = 2 # assign a value to spam variable (ex: 1, 2 or any other  value)\n",
    "if spam == 1:\n",
    "    print(\"Hello\")\n",
    "elif spam == 2:\n",
    "    print(\"Howdy\")\n",
    "else:\n",
    "    print(\"Greetings\")"
   ]
  },
  {
   "cell_type": "code",
   "execution_count": null,
   "metadata": {},
   "outputs": [],
   "source": [
    "9.If your programme is stuck in an endless loop, what keys you’ll press?\n"
   ]
  },
  {
   "cell_type": "code",
   "execution_count": null,
   "metadata": {},
   "outputs": [],
   "source": [
    "1. Ctrl + C: Pressing Ctrl and C keys simultaneously interrupts the programs execution and terminates it.\n",
    "             This is the most common keyboard shortcut used to break out of an infinite loop\n",
    "             or stop a program that is not responding.\n",
    "\n",
    "2. Ctrl + Break: On some systems or IDEs,we might use Ctrl and Break keys together instead of Ctrl and C to \n",
    "              interrupt and terminate the program.Pressing either of these key combinations will \n",
    "              send a termination signal to the program, causing it to stop executing and return \n",
    "              control to the operating system or the development environment.\n",
    "\n"
   ]
  },
  {
   "cell_type": "code",
   "execution_count": null,
   "metadata": {},
   "outputs": [],
   "source": [
    "10. How can you tell the difference between break and continue?\n"
   ]
  },
  {
   "cell_type": "code",
   "execution_count": null,
   "metadata": {},
   "outputs": [],
   "source": [
    "break and continue are control flow statements used within loops to alter the flow of\n",
    "execution. \n",
    "Break statement:-\n",
    "        1.The break statement is used to immediately exit(or break out of)the current loop.\n",
    "        when encountered, the loop is terminated and the program execution continues \n",
    "        with the next statement after the loop.\n",
    "        2. the break statement is typically used with 'while' loops and 'for' loops.\n"
   ]
  },
  {
   "cell_type": "code",
   "execution_count": 30,
   "metadata": {},
   "outputs": [
    {
     "name": "stdout",
     "output_type": "stream",
     "text": [
      "Enter a number: 12\n",
      "You entered: 12\n",
      "Enter a number: 23\n",
      "You entered: 23\n",
      "Enter a number: 1\n",
      "You entered: 1\n",
      "Enter a number: 2\n",
      "You entered: 2\n",
      "Enter a number: 6\n",
      "loop finished\n"
     ]
    }
   ],
   "source": [
    "# ex: \n",
    "while True:\n",
    "    value = int(input(\"Enter a number: \"))\n",
    "    if value == 6:\n",
    "        break\n",
    "    print(\"You entered:\", value)\n",
    "print(\"loop finished\")"
   ]
  },
  {
   "cell_type": "code",
   "execution_count": null,
   "metadata": {},
   "outputs": [],
   "source": [
    "Continue statement:\n",
    "        1. The 'continue' statement is used to skip the current iteration of a loop and move to\n",
    "         next iteration.\n",
    "        2. when encountered, it immediately jumps to the next iteration of the loop, skipping any \n",
    "           code that follows the 'continue' statement within the current iteration.\n",
    "        3.The continue statement is typically used with 'while' loops and 'for' loops.\n"
   ]
  },
  {
   "cell_type": "code",
   "execution_count": 31,
   "metadata": {},
   "outputs": [
    {
     "name": "stdout",
     "output_type": "stream",
     "text": [
      "2\n",
      "3\n",
      "4\n",
      "6\n",
      "7\n",
      "8\n"
     ]
    }
   ],
   "source": [
    "# ex:\n",
    "for i in range(2,9):\n",
    "    if i==5:\n",
    "        continue\n",
    "    print(i)"
   ]
  },
  {
   "cell_type": "code",
   "execution_count": null,
   "metadata": {},
   "outputs": [],
   "source": [
    "11. In a for loop, what is the difference between range(10), range(0, 10), and range(0, 10, 1)?\n"
   ]
  },
  {
   "cell_type": "code",
   "execution_count": null,
   "metadata": {},
   "outputs": [],
   "source": [
    "In a for loop, the expressions range(10), range(0, 10), and range(0, 10, 1) \n",
    "are different ways of defining the range of values to iterate over. However, they all essentially produce\n",
    "the same result in this context.\n",
    "\n",
    "range(10):- This expression generates a sequence of numbers starting from 0(default start value)\n",
    "            up to, but not including, 10. It increments by 1(default step value) for each iteration.\n",
    "            So, the loop will iterate 10 times with values 0,1,2,3...8,9  \n",
    "range(0,10):- This expression specifies the start and end values of the range. It starts from 0 and goes \n",
    "              up to, but not including 10. It also increaments by 1 for each iteration\n",
    "range(10,10,1): This expression specifies the start, end, and step values of the range. It starts from 0,\n",
    "                goes up to, but not including, 10, and increments by 1 for each iteration."
   ]
  },
  {
   "cell_type": "code",
   "execution_count": null,
   "metadata": {},
   "outputs": [],
   "source": [
    "12. Write a short program that prints the numbers 1 to 10 using a for loop. Then write an equivalent program that prints the numbers 1 to 10 using a while loop.\n"
   ]
  },
  {
   "cell_type": "code",
   "execution_count": 33,
   "metadata": {},
   "outputs": [
    {
     "name": "stdout",
     "output_type": "stream",
     "text": [
      "1\n",
      "2\n",
      "3\n",
      "4\n",
      "5\n",
      "6\n",
      "7\n",
      "8\n",
      "9\n",
      "10\n"
     ]
    }
   ],
   "source": [
    "# using for loop \n",
    "for i in range(1,11):\n",
    "    print(i) "
   ]
  },
  {
   "cell_type": "code",
   "execution_count": 35,
   "metadata": {},
   "outputs": [
    {
     "name": "stdout",
     "output_type": "stream",
     "text": [
      "1\n",
      "2\n",
      "3\n",
      "4\n",
      "5\n",
      "6\n",
      "7\n",
      "8\n",
      "9\n",
      "10\n"
     ]
    }
   ],
   "source": [
    "# using while loop \n",
    "i = 1\n",
    "while i <= 10:\n",
    "    print(i)\n",
    "    i+=1\n",
    "    "
   ]
  },
  {
   "cell_type": "code",
   "execution_count": null,
   "metadata": {},
   "outputs": [],
   "source": [
    "13. If you had a function named bacon() inside a module named spam, how would you call it after \n",
    "    importing spam?\n"
   ]
  },
  {
   "cell_type": "code",
   "execution_count": null,
   "metadata": {},
   "outputs": [],
   "source": [
    "import spam \n",
    "spam.bacon()  \n",
    "# in this code import spam imports spam module into the current python program.\n",
    "# alternatively\n",
    "from spam import bacon\n",
    "bacon()  \n",
    "# In this case the from spam import bacon statement imports only the bacon() function\n",
    "# fromm the spam module now we can directly call bacon() without prefixing it with the module name.\n"
   ]
  },
  {
   "cell_type": "code",
   "execution_count": null,
   "metadata": {},
   "outputs": [],
   "source": []
  }
 ],
 "metadata": {
  "kernelspec": {
   "display_name": "Python 3",
   "language": "python",
   "name": "python3"
  },
  "language_info": {
   "codemirror_mode": {
    "name": "ipython",
    "version": 3
   },
   "file_extension": ".py",
   "mimetype": "text/x-python",
   "name": "python",
   "nbconvert_exporter": "python",
   "pygments_lexer": "ipython3",
   "version": "3.8.5"
  }
 },
 "nbformat": 4,
 "nbformat_minor": 4
}
